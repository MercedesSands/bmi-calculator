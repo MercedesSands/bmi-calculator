{
  "nbformat": 4,
  "nbformat_minor": 0,
  "metadata": {
    "colab": {
      "provenance": [],
      "authorship_tag": "ABX9TyPxvTRYDs9A/WftofM+8o7h",
      "include_colab_link": true
    },
    "kernelspec": {
      "name": "python3",
      "display_name": "Python 3"
    },
    "language_info": {
      "name": "python"
    }
  },
  "cells": [
    {
      "cell_type": "markdown",
      "metadata": {
        "id": "view-in-github",
        "colab_type": "text"
      },
      "source": [
        "<a href=\"https://colab.research.google.com/github/MercedesSands/bmi-calculator/blob/main/bmi_calculator.ipynb\" target=\"_parent\"><img src=\"https://colab.research.google.com/assets/colab-badge.svg\" alt=\"Open In Colab\"/></a>"
      ]
    },
    {
      "cell_type": "markdown",
      "source": [
        "#BMI Calculator\n",
        "\n",
        "This calculator will tell you your BMI based on height and weight"
      ],
      "metadata": {
        "id": "UYq5E1SQ3vu5"
      }
    },
    {
      "cell_type": "code",
      "execution_count": 2,
      "metadata": {
        "colab": {
          "base_uri": "https://localhost:8080/"
        },
        "id": "18mbDIkY3re9",
        "outputId": "14037f76-882c-47e9-b5db-8b6c4d57d04e"
      },
      "outputs": [
        {
          "output_type": "stream",
          "name": "stdout",
          "text": [
            "Enter you name: Mercedes\n",
            "Enter your weight in pounds: 180\n",
            "Enter your height in inches: 68\n",
            "27.3659169550173\n",
            "Mercedes, you are overweight. You need to exercise more and eat better.\n"
          ]
        }
      ],
      "source": [
        "name = input(\"Enter you name: \")\n",
        "\n",
        "weight = int(input(\"Enter your weight in pounds: \"))\n",
        "\n",
        "height = int(input(\"Enter your height in inches: \"))\n",
        "\n",
        "BMI = (weight * 703) / (height * height)\n",
        "\n",
        "print(BMI)\n",
        "\n",
        "if BMI>0:\n",
        "    if(BMI<18.5):\n",
        "        print(name +\", you are underwight.\")\n",
        "    elif (BMI<=24.9):\n",
        "        print(name +\", you are normal weight.\")\n",
        "    elif (BMI<29.9):\n",
        "        print(name +\", you are overweight. You need to exercise more and eat better.\")\n",
        "    elif (BMI<34.9):\n",
        "        print(name +\", you are obese.\")\n",
        "    elif (BMI<39.9):\n",
        "        print(name +\", you are severely obese.\")\n",
        "    else:\n",
        "        print(name +\", you are morbidly obese.\")\n",
        "else:\n",
        "    print(\"Enter valid input\")"
      ]
    },
    {
      "cell_type": "code",
      "source": [
        "print(weight)"
      ],
      "metadata": {
        "colab": {
          "base_uri": "https://localhost:8080/"
        },
        "id": "TfFnqxMu4i_s",
        "outputId": "26fd6566-6a7b-48c8-bc58-2601d8edc8e7"
      },
      "execution_count": 3,
      "outputs": [
        {
          "output_type": "stream",
          "name": "stdout",
          "text": [
            "180\n"
          ]
        }
      ]
    },
    {
      "cell_type": "markdown",
      "source": [
        "Under 18.5\tUnderweight\tMinimal\n",
        "\n",
        "18.5 - 24.9\tNormal Weight\tMinimal\n",
        "\n",
        "25 - 29.9\tOverweight\tIncreased\n",
        "\n",
        "30 - 34.9\tObese\tHigh\n",
        "\n",
        "35 - 39.9\tSeverely Obese\tVery High\n",
        "\n",
        "40 and over\tMorbidly Obese\tExtremely High\n",
        "\n",
        "BMI = (weight in pounds x 703) / (height in inches x height in inches)"
      ],
      "metadata": {
        "id": "FXqqNdjQ4q1q"
      }
    },
    {
      "cell_type": "code",
      "source": [
        "if BMI>0:\n",
        "    if(BMI<18.5):\n",
        "        print(name +\", you are underwight.\")\n",
        "    elif (BMI<=24.9):\n",
        "        print(name +\", you are normal weight.\")\n",
        "    elif (BMI<29.9):\n",
        "        print(name +\", you are overweight.\")\n",
        "    elif (BMI<34.9):\n",
        "        print(name +\", you are obese.\")\n",
        "    elif (BMI<39.9):\n",
        "        print(name +\", you are severely obese.\")\n",
        "    else:\n",
        "        print(name +\", you are morbidly obese.\")\n",
        "else:\n",
        "    print(\"Enter valid input\")"
      ],
      "metadata": {
        "colab": {
          "base_uri": "https://localhost:8080/"
        },
        "id": "MoLf9jjG4k3I",
        "outputId": "052039cc-f065-4a9b-88e3-48e8dd2062ee"
      },
      "execution_count": 4,
      "outputs": [
        {
          "output_type": "stream",
          "name": "stdout",
          "text": [
            "Mercedes, you are overweight.\n"
          ]
        }
      ]
    }
  ]
}